{
  "nbformat": 4,
  "nbformat_minor": 0,
  "metadata": {
    "colab": {
      "provenance": [],
      "authorship_tag": "ABX9TyMpR2wHsyUGLG/Gb0p5GTya",
      "include_colab_link": true
    },
    "kernelspec": {
      "name": "python3",
      "display_name": "Python 3"
    },
    "language_info": {
      "name": "python"
    }
  },
  "cells": [
    {
      "cell_type": "markdown",
      "metadata": {
        "id": "view-in-github",
        "colab_type": "text"
      },
      "source": [
        "<a href=\"https://colab.research.google.com/github/tapias4/Diccionario/blob/main/Diccionarios.ipynb\" target=\"_parent\"><img src=\"https://colab.research.google.com/assets/colab-badge.svg\" alt=\"Open In Colab\"/></a>"
      ]
    },
    {
      "cell_type": "markdown",
      "source": [
        "# Diccionarios\n",
        "\n",
        "- Son datos estructurados es decir, hacen referencia a una coleccion de datos.\n",
        "- Son un collecion desordenada de pares de datos de la foma clave:valor, conocidos como elementos o items.\n",
        "- Son mutables, por tanto, una vez defnido un diccionario se le puueden agregar nuevos elementos, modificar o eliminar algunos de los que ya tiene.\n",
        "- Tambien se les conoce como mapa de hash o arreglos asosiativos.\n",
        "- En Python los diccionarios son de tipo dict y se utiliz la siguiente sintaxis pra crear una variable de este tipo:\n",
        "\n",
        "`nombre_dict = {clave1:valor1, clave2:valor2, ...}`\n",
        "\n",
        "- Cada item o elemento tiene la forma clave:valor.\n",
        "- En cada item hay una clave y uno o mas valores. Si se desconoce el valor se puede llenar con `None`\n",
        "- Los elementos del diccionario se indexan por la clave.\n",
        "- Las claves solo pueden ser daos inmutables.\n",
        "- Las claves no pueden repetirse dentro de un diccionario\n"
      ],
      "metadata": {
        "id": "ve8AqtYPpeRr"
      }
    },
    {
      "cell_type": "code",
      "source": [
        "# Diccionario con clave tipo cadena\n",
        "\n",
        "num_meses = {'ene':1, 'feb':2, 'mar':3, 'abr':4, 'may':5, 'jun':6, 'jul':7, 'ago':8, 'sep':9, 'oct':10, 'nov':11, 'dic':12}\n",
        "print(num_meses)\n",
        "\n",
        "nombre_meses = {1:'enero', 2:'febrero', 3:'marzo', 4:'abril', 5:'mayo', 6:'junio', 7:'julio', 8:'agosto', 9:'septiembre', 10:'octubre', 11:'noviembre', 12:'diciembre'}\n",
        "print(nombre_meses)\n",
        "\n",
        "frutas = {'manzana': 34, 'pera': 45, 'uva': 23}\n",
        "print(frutas)\n",
        "\n",
        "# Agregar elementos\n",
        "frutas['cereza'] = 90\n",
        "print(frutas)\n",
        "\n",
        "# Modificar elementos\n",
        "frutas['cereza'] = 50\n",
        "print(frutas)\n",
        "\n",
        "# Eliminar elementos\n",
        "del frutas['cereza']\n",
        "print(frutas)\n",
        "# Consultar valor dada en clave\n",
        "print('El valor de manzana es: ')"
      ],
      "metadata": {
        "id": "qPJhn76Lskko"
      },
      "execution_count": null,
      "outputs": []
    }
  ]
}